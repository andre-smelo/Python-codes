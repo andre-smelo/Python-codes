{
 "cells": [
  {
   "cell_type": "code",
   "execution_count": 1,
   "id": "c7d3e065",
   "metadata": {},
   "outputs": [
    {
     "name": "stdout",
     "output_type": "stream",
     "text": [
      "        Candidato  N° Votos Porcentagem\n",
      "0            LULA  57259504       48,43\n",
      "1  JAIR BOLSONARO  51072345       43,20\n",
      "2    SIMONE TEBET   4915423        4,16\n",
      "3      CIRO GOMES   3599287        3,04\n"
     ]
    }
   ],
   "source": [
    "import requests \n",
    "import json \n",
    "import pandas as pd \n",
    "\n",
    "data = requests.get('https://resultados.tse.jus.br/oficial/ele2022/544/dados-simplificados/br/br-c0001-e000544-r.json')\n",
    "json_data = json.loads(data.content)\n",
    "\n",
    "candidato = [] \n",
    "partido = []\n",
    "votos = []\n",
    "porcentagem = [] \n",
    "for informacoes in json_data['cand']: \n",
    "    if informacoes['seq'] == '1' or informacoes['seq'] == '2' or informacoes['seq'] == '3' or informacoes['seq'] == '4': \n",
    "        candidato.append(informacoes['nm'])\n",
    "        votos.append(informacoes['vap'])\n",
    "        porcentagem.append(informacoes['pvap'])\n",
    "\n",
    "df_eleicao = pd.DataFrame(list(zip(candidato, votos, porcentagem)), columns=['Candidato', 'N° Votos', 'Porcentagem']) \n",
    "print(df_eleicao)"
   ]
  }
 ],
 "metadata": {
  "kernelspec": {
   "display_name": "Python 3 (ipykernel)",
   "language": "python",
   "name": "python3"
  },
  "language_info": {
   "codemirror_mode": {
    "name": "ipython",
    "version": 3
   },
   "file_extension": ".py",
   "mimetype": "text/x-python",
   "name": "python",
   "nbconvert_exporter": "python",
   "pygments_lexer": "ipython3",
   "version": "3.9.12"
  }
 },
 "nbformat": 4,
 "nbformat_minor": 5
}
